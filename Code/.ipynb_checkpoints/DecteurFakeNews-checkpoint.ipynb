{
 "cells": [
  {
   "cell_type": "markdown",
   "metadata": {},
   "source": [
    "# Initialisation DataFrame"
   ]
  },
  {
   "cell_type": "code",
   "execution_count": 16,
   "metadata": {
    "scrolled": true
   },
   "outputs": [
    {
     "name": "stdout",
     "output_type": "stream",
     "text": [
      "Finish Cell\n"
     ]
    }
   ],
   "source": [
    "import numpy as np\n",
    "import pandas as pd\n",
    "import re\n",
    "\n",
    "tsize=0.25 #test size pour les train_test_split\n",
    "g=0.1 #Gamma pour la classification avec SVN\n",
    "\n",
    "chemin1=\"../Doc/fake_or_real_news.csv\"\n",
    "chemin2F = \"../Doc/Fake.csv\"\n",
    "chemin2T = \"../Doc/True.csv\"\n",
    "\n",
    "#Traitement de la 1ere BdD\n",
    "dt=pd.read_csv(chemin1)\n",
    "dt=dt.drop(['Unnamed: 0'], axis=1)\n",
    "\n",
    "#Traitement de la 2nd BdD\n",
    "dttmpF = pd.read_csv(chemin2F)\n",
    "dttmpT = pd.read_csv(chemin2T)\n",
    "\n",
    "dttmpF[\"label\"] = \"0\"\n",
    "dttmpT[\"label\"] = \"1\"\n",
    "\n",
    "dttmp = pd.concat([dttmpF,dttmpT])\n",
    "dttmp = dttmp.drop(['subject', 'date'], axis=1)\n",
    "\n",
    "for i in range(dt.shape[0]):\n",
    "    if dt[\"label\"][i] == \"FAKE\":\n",
    "        dt[\"label\"][i] =0;\n",
    "    else:\n",
    "        dt[\"label\"][i] =1;\n",
    "\n",
    "#Envisager de mélanger les lignes si besoin.\n",
    "\n",
    "#Mise en commun des 2 BdD\n",
    "dt = pd.concat([dt,dttmp])\n",
    "print(\"Finish Cell\")"
   ]
  },
  {
   "cell_type": "code",
   "execution_count": 2,
   "metadata": {},
   "outputs": [
    {
     "name": "stdout",
     "output_type": "stream",
     "text": [
      "Finish Cell\n"
     ]
    }
   ],
   "source": [
    "#Nettoyage de la dt\n",
    "import string as st\n",
    "\n",
    "def net_text(text):\n",
    "    text = text.lower()\n",
    "    text = re.sub('\\n',' ',text)#on retire les caractères spéciaux\n",
    "    text = \"\".join([ch for ch in text if ch not in st.punctuation]) #retire le ponctuation\n",
    "    text = re.split('\\s+', text) #on sépare chaque mot pour appliquer en liste la suite\n",
    "    text = [x for x in text if len(x)>2] # on retire les mots de 2 lettres, trop présents et sans grande utilité.\n",
    "    text = \" \".join([word for word in text]) #On recolle tout\n",
    "    return text\n",
    "\n",
    "dt['text']=dt['text'].apply(net_text)\n",
    "dt['title']=dt['title'].apply(net_text)\n",
    "print(\"Finish Cell\")"
   ]
  },
  {
   "cell_type": "markdown",
   "metadata": {},
   "source": [
    "# Juste le texte"
   ]
  },
  {
   "cell_type": "code",
   "execution_count": 3,
   "metadata": {},
   "outputs": [
    {
     "name": "stdout",
     "output_type": "stream",
     "text": [
      "Finish Cell\n"
     ]
    }
   ],
   "source": [
    "from sklearn.model_selection import train_test_split\n",
    "from sklearn.feature_extraction.text import TfidfVectorizer\n",
    "from sklearn.metrics import accuracy_score\n",
    "\n",
    "#On a besoin d' nombre donc on va convertir le text en vecteur;\n",
    "\n",
    "\n",
    "vectorizer = TfidfVectorizer()\n",
    "X = vectorizer.fit_transform(dt['text'].astype(str))\n",
    "\n",
    "y=dt['label']\n",
    "\n",
    "Xtrain, Xtest, ytrain, ytest = train_test_split(X,y,test_size=tsize)\n",
    "print(\"Finish Cell\")"
   ]
  },
  {
   "cell_type": "raw",
   "metadata": {},
   "source": [
    "Classification avec Arbre de décision"
   ]
  },
  {
   "cell_type": "code",
   "execution_count": 4,
   "metadata": {},
   "outputs": [
    {
     "name": "stdout",
     "output_type": "stream",
     "text": [
      "0.9661956436880319\n",
      "[[6475  146]\n",
      " [ 287 5901]]\n",
      "Wall time: 27.5 s\n"
     ]
    }
   ],
   "source": [
    "%%time\n",
    "from sklearn.tree import DecisionTreeClassifier\n",
    "from sklearn.tree import DecisionTreeClassifier\n",
    "from sklearn import metrics\n",
    "\n",
    "Arbre_decision = DecisionTreeClassifier(random_state=0, max_depth=20)\n",
    "clf = Arbre_decision.fit(Xtrain, ytrain.astype(float))\n",
    "\n",
    "ypredit = clf.predict(Xtest)\n",
    "\n",
    "ypredit = pd.Series(ypredit)\n",
    "ytest=ytest.astype(float); #pour avoir le même type\n",
    "\n",
    "print(accuracy_score(ytest, ypredit))\n",
    "print(metrics.confusion_matrix(ytest, ypredit))"
   ]
  },
  {
   "cell_type": "raw",
   "metadata": {},
   "source": [
    "Classification avec le plus proche voisin"
   ]
  },
  {
   "cell_type": "code",
   "execution_count": 5,
   "metadata": {},
   "outputs": [
    {
     "name": "stdout",
     "output_type": "stream",
     "text": [
      "0.657740651104692\n",
      "[[6489  132]\n",
      " [4252 1936]]\n",
      "Wall time: 43.9 s\n"
     ]
    }
   ],
   "source": [
    "%%time\n",
    "from sklearn.neighbors import KNeighborsClassifier\n",
    "from sklearn import metrics\n",
    "\n",
    "KNN = KNeighborsClassifier()\n",
    "clf = KNN .fit(Xtrain, ytrain.astype(float))\n",
    "ypredit = clf.predict(Xtest)\n",
    "\n",
    "ypredit = pd.Series(ypredit)\n",
    "ytest=ytest.astype(float); #pour avoir le même type\n",
    "\n",
    "print(accuracy_score(ytest, ypredit))\n",
    "print(metrics.confusion_matrix(ytest, ypredit))"
   ]
  },
  {
   "cell_type": "raw",
   "metadata": {},
   "source": [
    "Classification avec SVM (compile mais met trop de temps à s'exécuter)"
   ]
  },
  {
   "cell_type": "code",
   "execution_count": null,
   "metadata": {},
   "outputs": [],
   "source": [
    "%%time\n",
    "from sklearn import svm\n",
    "from sklearn import metrics\n",
    "clf = svm.SVC(gamma=g)\n",
    "clf.fit(Xtrain,ytrain.astype(float))\n",
    "\n",
    "ypredit = pd.Series(ypredit)\n",
    "ytest=ytest.astype(float); #pour avoir le même type\n",
    "\n",
    "print(accuracy_score(ytest, ypredit))\n",
    "print(metrics.confusion_matrix(ytest, ypredit))"
   ]
  },
  {
   "cell_type": "markdown",
   "metadata": {},
   "source": [
    "# Juste le titre"
   ]
  },
  {
   "cell_type": "code",
   "execution_count": 7,
   "metadata": {},
   "outputs": [
    {
     "name": "stdout",
     "output_type": "stream",
     "text": [
      "Finish Cell\n"
     ]
    }
   ],
   "source": [
    "from sklearn.model_selection import train_test_split\n",
    "from sklearn.feature_extraction.text import TfidfVectorizer\n",
    "from sklearn.metrics import accuracy_score\n",
    "\n",
    "#On a besoin d' nombre donc on va convertir le text en vecteur;\n",
    "\n",
    "\n",
    "vectorizer = TfidfVectorizer()\n",
    "X = vectorizer.fit_transform(dt['title'].astype(str))\n",
    "\n",
    "y=dt['label']\n",
    "\n",
    "Xtrain, Xtest, ytrain, ytest = train_test_split(X,y,test_size=tsize)\n",
    "print(\"Finish Cell\")"
   ]
  },
  {
   "cell_type": "raw",
   "metadata": {},
   "source": [
    "Classification avec Arbre de décision"
   ]
  },
  {
   "cell_type": "code",
   "execution_count": 8,
   "metadata": {},
   "outputs": [
    {
     "name": "stdout",
     "output_type": "stream",
     "text": [
      "0.8319150597236318\n",
      "[[5025 1649]\n",
      " [ 504 5631]]\n",
      "Wall time: 1.62 s\n"
     ]
    }
   ],
   "source": [
    "%%time\n",
    "from sklearn.tree import DecisionTreeClassifier\n",
    "from sklearn.tree import DecisionTreeClassifier\n",
    "from sklearn import metrics\n",
    "\n",
    "Arbre_decision = DecisionTreeClassifier(random_state=0, max_depth=20)\n",
    "clf = Arbre_decision.fit(Xtrain, ytrain.astype(float))\n",
    "\n",
    "ypredit = clf.predict(Xtest)\n",
    "\n",
    "ypredit = pd.Series(ypredit)\n",
    "ytest=ytest.astype(float); #pour avoir le même type\n",
    "\n",
    "print(accuracy_score(ytest, ypredit))\n",
    "print(metrics.confusion_matrix(ytest, ypredit))"
   ]
  },
  {
   "cell_type": "raw",
   "metadata": {},
   "source": [
    "Classification avec le plus proche voisin"
   ]
  },
  {
   "cell_type": "code",
   "execution_count": 9,
   "metadata": {},
   "outputs": [
    {
     "name": "stdout",
     "output_type": "stream",
     "text": [
      "0.8568974939495667\n",
      "[[5922  752]\n",
      " [1081 5054]]\n",
      "Wall time: 10.5 s\n"
     ]
    }
   ],
   "source": [
    "%%time\n",
    "from sklearn.neighbors import KNeighborsClassifier\n",
    "from sklearn import metrics\n",
    "\n",
    "KNN = KNeighborsClassifier()\n",
    "clf = KNN .fit(Xtrain, ytrain.astype(float))\n",
    "ypredit = clf.predict(Xtest)\n",
    "\n",
    "ypredit = pd.Series(ypredit)\n",
    "ytest=ytest.astype(float); #pour avoir le même type\n",
    "\n",
    "print(accuracy_score(ytest, ypredit))\n",
    "print(metrics.confusion_matrix(ytest, ypredit))"
   ]
  },
  {
   "cell_type": "raw",
   "metadata": {},
   "source": [
    "Classification avec SVM (compile mais met trop de temps à s'exécuter)"
   ]
  },
  {
   "cell_type": "code",
   "execution_count": 10,
   "metadata": {},
   "outputs": [
    {
     "data": {
      "text/plain": [
       "'%%time\\nfrom sklearn import svm\\nfrom sklearn import metrics\\nclf = svm.SVC(gamma=0.001)\\nclf.fit(Xtrain,ytrain.astype(float))\\n\\nypredit = pd.Series(ypredit)\\nytest=ytest.astype(float); #pour avoir le même type\\n\\nprint(accuracy_score(ytest, ypredit))\\nprint(metrics.confusion_matrix(ytest, ypredit))'"
      ]
     },
     "execution_count": 10,
     "metadata": {},
     "output_type": "execute_result"
    }
   ],
   "source": [
    "'''%%time\n",
    "from sklearn import svm\n",
    "from sklearn import metrics\n",
    "clf = svm.SVC(gamma=0.001)\n",
    "clf.fit(Xtrain,ytrain.astype(float))\n",
    "\n",
    "ypredit = pd.Series(ypredit)\n",
    "ytest=ytest.astype(float); #pour avoir le même type\n",
    "\n",
    "print(accuracy_score(ytest, ypredit))\n",
    "print(metrics.confusion_matrix(ytest, ypredit))'''"
   ]
  },
  {
   "cell_type": "markdown",
   "metadata": {},
   "source": [
    "# Titre + texte"
   ]
  },
  {
   "cell_type": "code",
   "execution_count": 11,
   "metadata": {},
   "outputs": [
    {
     "name": "stdout",
     "output_type": "stream",
     "text": [
      "Finish Cell\n"
     ]
    }
   ],
   "source": [
    "from sklearn.model_selection import train_test_split\n",
    "from sklearn.feature_extraction.text import TfidfVectorizer\n",
    "from sklearn.metrics import accuracy_score\n",
    "\n",
    "#On a besoin d' nombre donc on va convertir le text en vecteur;\n",
    "\n",
    "\n",
    "vectorizer = TfidfVectorizer()\n",
    "Xtmp=dt['title'] + dt['text']\n",
    "X = vectorizer.fit_transform(Xtmp);\n",
    "\n",
    "y=dt['label']\n",
    "\n",
    "Xtrain, Xtest, ytrain, ytest = train_test_split(X,y,test_size=tsize)\n",
    "print(\"Finish Cell\")"
   ]
  },
  {
   "cell_type": "raw",
   "metadata": {},
   "source": [
    "Classification avec Arbre de décision"
   ]
  },
  {
   "cell_type": "code",
   "execution_count": 12,
   "metadata": {},
   "outputs": [
    {
     "name": "stdout",
     "output_type": "stream",
     "text": [
      "0.9518307440081193\n",
      "[[6430  198]\n",
      " [ 419 5762]]\n",
      "Wall time: 32.2 s\n"
     ]
    }
   ],
   "source": [
    "%%time\n",
    "from sklearn.tree import DecisionTreeClassifier\n",
    "from sklearn.tree import DecisionTreeClassifier\n",
    "from sklearn import metrics\n",
    "\n",
    "Arbre_decision = DecisionTreeClassifier(random_state=0, max_depth=20)\n",
    "clf = Arbre_decision.fit(Xtrain, ytrain.astype(float))\n",
    "\n",
    "ypredit = clf.predict(Xtest)\n",
    "\n",
    "ypredit = pd.Series(ypredit)\n",
    "ytest=ytest.astype(float); #pour avoir le même type\n",
    "\n",
    "print(accuracy_score(ytest, ypredit))\n",
    "print(metrics.confusion_matrix(ytest, ypredit))"
   ]
  },
  {
   "cell_type": "raw",
   "metadata": {},
   "source": [
    "Classification avec le plus proche voisin"
   ]
  },
  {
   "cell_type": "code",
   "execution_count": 13,
   "metadata": {},
   "outputs": [
    {
     "name": "stdout",
     "output_type": "stream",
     "text": [
      "0.8132563041611367\n",
      "[[4667 1961]\n",
      " [ 431 5750]]\n",
      "Wall time: 43.4 s\n"
     ]
    }
   ],
   "source": [
    "%%time\n",
    "from sklearn.neighbors import KNeighborsClassifier\n",
    "from sklearn import metrics\n",
    "\n",
    "KNN = KNeighborsClassifier()\n",
    "clf = KNN .fit(Xtrain, ytrain.astype(float))\n",
    "ypredit = clf.predict(Xtest)\n",
    "\n",
    "ypredit = pd.Series(ypredit)\n",
    "ytest=ytest.astype(float); #pour avoir le même type\n",
    "\n",
    "print(accuracy_score(ytest, ypredit))\n",
    "print(metrics.confusion_matrix(ytest, ypredit))"
   ]
  },
  {
   "cell_type": "raw",
   "metadata": {},
   "source": [
    "Classification avec SVM (compile mais met trop de temps à s'exécuter)"
   ]
  },
  {
   "cell_type": "code",
   "execution_count": 14,
   "metadata": {},
   "outputs": [
    {
     "data": {
      "text/plain": [
       "'%%time\\nfrom sklearn import svm\\nfrom sklearn import metrics\\nclf = svm.SVC(gamma=0.001)\\nclf.fit(Xtrain,ytrain.astype(float))\\n\\nypredit = pd.Series(ypredit)\\nytest=ytest.astype(float); #pour avoir le même type\\n\\nprint(accuracy_score(ytest, ypredit))\\nprint(metrics.confusion_matrix(ytest, ypredit))'"
      ]
     },
     "execution_count": 14,
     "metadata": {},
     "output_type": "execute_result"
    }
   ],
   "source": [
    "'''%%time\n",
    "from sklearn import svm\n",
    "from sklearn import metrics\n",
    "clf = svm.SVC(gamma=0.001)\n",
    "clf.fit(Xtrain,ytrain.astype(float))\n",
    "\n",
    "ypredit = pd.Series(ypredit)\n",
    "ytest=ytest.astype(float); #pour avoir le même type\n",
    "\n",
    "print(accuracy_score(ytest, ypredit))\n",
    "print(metrics.confusion_matrix(ytest, ypredit))'''"
   ]
  }
 ],
 "metadata": {
  "kernelspec": {
   "display_name": "Python 3",
   "language": "python",
   "name": "python3"
  },
  "language_info": {
   "codemirror_mode": {
    "name": "ipython",
    "version": 3
   },
   "file_extension": ".py",
   "mimetype": "text/x-python",
   "name": "python",
   "nbconvert_exporter": "python",
   "pygments_lexer": "ipython3",
   "version": "3.8.3"
  }
 },
 "nbformat": 4,
 "nbformat_minor": 4
}
